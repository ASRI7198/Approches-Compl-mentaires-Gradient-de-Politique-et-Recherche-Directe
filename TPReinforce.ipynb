{
 "cells": [
  {
   "cell_type": "markdown",
   "metadata": {},
   "source": [
    "# Algorithme par gradient de Politique\n",
    "\n",
    "Dans ce TP, l'objectif est d'implémenter l'algorithme REINFORCE basé sur le gradient de la politique pour trouver une politique optimale pour l'environnement [CartPole](https://gymnasium.farama.org/environments/classic_control/cart_pole/).\n"
   ]
  },
  {
   "cell_type": "code",
   "execution_count": 72,
   "metadata": {},
   "outputs": [
    {
     "name": "stdout",
     "output_type": "stream",
     "text": [
      "The autoreload extension is already loaded. To reload it, use:\n",
      "  %reload_ext autoreload\n"
     ]
    }
   ],
   "source": [
    "import gymnasium as gym\n",
    "import random\n",
    "import numpy as np\n",
    "from collections import deque\n",
    "import matplotlib.pyplot as plt\n",
    "import torch\n",
    "import torch.nn as nn\n",
    "import torch.nn.functional as F\n",
    "import torch.optim as optim\n",
    "from torch.distributions import Categorical\n",
    "import utils\n",
    "%matplotlib inline\n",
    "%load_ext autoreload\n",
    "\n",
    "def init_seed(seedval):\n",
    "    torch.manual_seed(seedval)\n",
    "    np.random.seed(seedval)\n",
    "    random.seed(seedval)"
   ]
  },
  {
   "cell_type": "markdown",
   "metadata": {},
   "source": [
    "# 1 Définition de la Politique\n",
    "\n",
    "L'algorithme REINFORCE utilise des politiques stochastiques, ainsi que la log probabilité des actions prises dans chaque état. Pour cela, les [distributions PyTorch](https://pytorch.org/docs/stable/distributions.html) sont à utiliser.\n",
    "\n"
   ]
  },
  {
   "cell_type": "code",
   "execution_count": 73,
   "metadata": {},
   "outputs": [],
   "source": [
    "class Politique(nn.Module):\n",
    "    def __init__(self, dim_entree:int, dim_sortie:int , dim_cachee:int):\n",
    "        super(Politique, self).__init__()\n",
    "        self.f1 = nn.Linear(dim_entree,dim_cachee)\n",
    "        self.f2 = nn.Linear(dim_cachee,dim_sortie)\n",
    "        self.relu = nn.ReLU()\n",
    "\n",
    "    def forward(self, etat : np.ndarray):\n",
    "        etat = torch.tensor(etat, dtype=torch.float)\n",
    "        x = self.f1(etat)\n",
    "        x = self.relu(x)\n",
    "        x = self.f2(x)\n",
    "        x = F.softmax(x, dim=1)\n",
    "        return x\n",
    "\n",
    "        \n",
    "    def action(self, etat : np.ndarray) -> tuple[int,torch.Tensor]:\n",
    "        \"\"\"\n",
    "        Renvoi l'action a executer dans etat et la log proba de cette action\n",
    "        \"\"\"\n",
    "        if isinstance(etat, np.ndarray):\n",
    "            etat = torch.tensor(etat, dtype=torch.float).unsqueeze(0) \n",
    "            probabilites = self.forward(etat)\n",
    "            distribution = torch.distributions.Categorical(probabilites)\n",
    "            action = distribution.sample()\n",
    "            log_proba = distribution.log_prob(action)\n",
    "            \n",
    "        return action, log_proba\n",
    "            \n",
    "        \n",
    "    \n",
    "    "
   ]
  },
  {
   "cell_type": "markdown",
   "metadata": {},
   "source": [
    "# 2 Algorithme REINFORCE\n"
   ]
  },
  {
   "cell_type": "code",
   "execution_count": 74,
   "metadata": {},
   "outputs": [],
   "source": [
    "\n",
    "def trajectoire(env,politique, max_t:int =500)->  tuple[list,list]:\n",
    "    \"\"\"\n",
    "        max_t: nombre max de pas de la trajectoire\n",
    "    \"\"\"\n",
    "    etat, _ = env.reset(seed=random.randint(0,5000))\n",
    "    liste_reward = []\n",
    "    liste_log_proba = []\n",
    "    for i in range(max_t):\n",
    "        action,log_proba = politique.action(etat)\n",
    "        action = action.item()\n",
    "        next_state,reward,done, _ , _ = env.step(action)\n",
    "        liste_reward.append(reward)\n",
    "        liste_log_proba.append(log_proba)\n",
    "        if done :\n",
    "            break\n",
    "        etat=next_state\n",
    "    return liste_reward,liste_log_proba\n",
    "        \n",
    "\n"
   ]
  },
  {
   "cell_type": "code",
   "execution_count": 75,
   "metadata": {},
   "outputs": [
    {
     "name": "stdout",
     "output_type": "stream",
     "text": [
      "somme des récompenses 1 = 52.0\n",
      "somme des récompenses 2 = 27.0\n",
      "somme des récompenses 3 = 12.0\n",
      "somme des récompenses 4 = 14.0\n",
      "somme des récompenses 5 = 24.0\n",
      "somme des récompenses 6 = 14.0\n",
      "somme des récompenses 7 = 19.0\n",
      "somme des récompenses 8 = 14.0\n",
      "somme des récompenses 9 = 14.0\n",
      "somme des récompenses 10 = 14.0\n"
     ]
    },
    {
     "name": "stderr",
     "output_type": "stream",
     "text": [
      "C:\\Users\\DELL\\AppData\\Local\\Temp\\ipykernel_13032\\604695970.py:9: UserWarning: To copy construct from a tensor, it is recommended to use sourceTensor.clone().detach() or sourceTensor.clone().detach().requires_grad_(True), rather than torch.tensor(sourceTensor).\n",
      "  etat = torch.tensor(etat, dtype=torch.float)\n"
     ]
    }
   ],
   "source": [
    "env = gym.make(\"CartPole-v1\")\n",
    "init_seed(5)\n",
    "state_dim = env.observation_space.shape[0] \n",
    "action_dim = env.action_space.n\n",
    "dim_cache = 64\n",
    "politique = Politique(state_dim,action_dim,64)\n",
    "\n",
    "for i in range(10):\n",
    "    liste_reward, liste_log_proba = trajectoire(env, politique)\n",
    "    somme_reward = sum(liste_reward)\n",
    "    print(f\"somme des récompenses {i+1} = {somme_reward}\")\n",
    "\n",
    "env.close()\n"
   ]
  },
  {
   "cell_type": "markdown",
   "metadata": {},
   "source": [
    "# 3 REINFORCE avec m=1 (1 trajectoire par rollout)\n",
    "\n",
    "La méthode *loss_reinforce* ci-dessous calcule à partir des informations sur une trajectoire $\\tau = (s_0,a_0,r_0,s_1, ...,s_{H+1})$ :\n",
    "$$\\sum_{t=0}^H log \\pi_\\theta(a_t | s_t) R(\\tau)$$\n",
    "avec le retour cumulé total sur la trajectoire:\n",
    "$$R(\\tau) = \\sum_{t=0}^H \\gamma^t r_t$$\n",
    "\n"
   ]
  },
  {
   "cell_type": "code",
   "execution_count": 76,
   "metadata": {},
   "outputs": [],
   "source": [
    "def loss_reinforce(log_probs:list, retour_cumule:float):\n",
    "    \"\"\"\n",
    "        log_probs: liste des log proba des actions prises à chaque pas d'une trajectoire \n",
    "        retour_cumule : somme pondérée des recompenses obtenue sur une trajectoire\n",
    "        renvoi: loss = - sum_t logproba(a_t) * retour_cumule\n",
    "    \"\"\"\n",
    "    loss = []\n",
    "    for log_prob in log_probs: \n",
    "        loss.append(-log_prob * retour_cumule) \n",
    "    return torch.cat(loss).sum()\n",
    "\n",
    "def reinforce(env,politique, nb_episodes=2000, gamma=0.99, max_t=500) -> list:\n",
    "\n",
    "    optimizer = optim.Adam(politique.parameters(), lr=1e-3)\n",
    "    etat, _ = env.reset(seed=random.randint(0,5000))\n",
    "    total_rewards = []\n",
    "    for epoch in range(nb_episodes):\n",
    "        liste_reward, liste_log_proba = trajectoire(env, politique,max_t)\n",
    "        Somme_reward_cumule=0\n",
    "        for t,reward in enumerate(liste_reward) :\n",
    "            reward_cumule = (gamma**t)*reward\n",
    "            Somme_reward_cumule += reward_cumule\n",
    "            \n",
    "        loss=loss_reinforce(liste_log_proba,Somme_reward_cumule)\n",
    "        \n",
    "        optimizer.zero_grad()\n",
    "        loss.backward()\n",
    "        optimizer.step()\n",
    "        \n",
    "\n",
    "        total_rewards.append(sum(liste_reward))\n",
    "    \n",
    "        if (epoch+1) % 50 == 0 :          \n",
    "            print(f\"Épisode {epoch + 1}/{nb_episodes}, Somme des 100 derniers épisodes: {sum(total_rewards[-50:])}\")\n",
    "             \n",
    "    return total_rewards\n",
    "        "
   ]
  },
  {
   "cell_type": "code",
   "execution_count": 77,
   "metadata": {},
   "outputs": [
    {
     "name": "stderr",
     "output_type": "stream",
     "text": [
      "C:\\Users\\DELL\\AppData\\Local\\Temp\\ipykernel_13032\\604695970.py:9: UserWarning: To copy construct from a tensor, it is recommended to use sourceTensor.clone().detach() or sourceTensor.clone().detach().requires_grad_(True), rather than torch.tensor(sourceTensor).\n",
      "  etat = torch.tensor(etat, dtype=torch.float)\n"
     ]
    },
    {
     "name": "stdout",
     "output_type": "stream",
     "text": [
      "Épisode 50/2000, Somme des 100 derniers épisodes: 1048.0\n",
      "Épisode 100/2000, Somme des 100 derniers épisodes: 1192.0\n",
      "Épisode 150/2000, Somme des 100 derniers épisodes: 1316.0\n",
      "Épisode 200/2000, Somme des 100 derniers épisodes: 1404.0\n",
      "Épisode 250/2000, Somme des 100 derniers épisodes: 1582.0\n",
      "Épisode 300/2000, Somme des 100 derniers épisodes: 1504.0\n",
      "Épisode 350/2000, Somme des 100 derniers épisodes: 1866.0\n",
      "Épisode 400/2000, Somme des 100 derniers épisodes: 2343.0\n",
      "Épisode 450/2000, Somme des 100 derniers épisodes: 2228.0\n",
      "Épisode 500/2000, Somme des 100 derniers épisodes: 2374.0\n",
      "Épisode 550/2000, Somme des 100 derniers épisodes: 3113.0\n",
      "Épisode 600/2000, Somme des 100 derniers épisodes: 3329.0\n",
      "Épisode 650/2000, Somme des 100 derniers épisodes: 4148.0\n",
      "Épisode 700/2000, Somme des 100 derniers épisodes: 3908.0\n",
      "Épisode 750/2000, Somme des 100 derniers épisodes: 3738.0\n",
      "Épisode 800/2000, Somme des 100 derniers épisodes: 4123.0\n",
      "Épisode 850/2000, Somme des 100 derniers épisodes: 3893.0\n",
      "Épisode 900/2000, Somme des 100 derniers épisodes: 3673.0\n",
      "Épisode 950/2000, Somme des 100 derniers épisodes: 4546.0\n",
      "Épisode 1000/2000, Somme des 100 derniers épisodes: 4704.0\n",
      "Épisode 1050/2000, Somme des 100 derniers épisodes: 5580.0\n",
      "Épisode 1100/2000, Somme des 100 derniers épisodes: 6287.0\n",
      "Épisode 1150/2000, Somme des 100 derniers épisodes: 5701.0\n",
      "Épisode 1200/2000, Somme des 100 derniers épisodes: 5699.0\n",
      "Épisode 1250/2000, Somme des 100 derniers épisodes: 7189.0\n",
      "Épisode 1300/2000, Somme des 100 derniers épisodes: 6690.0\n",
      "Épisode 1350/2000, Somme des 100 derniers épisodes: 7231.0\n",
      "Épisode 1400/2000, Somme des 100 derniers épisodes: 8782.0\n",
      "Épisode 1450/2000, Somme des 100 derniers épisodes: 7321.0\n",
      "Épisode 1500/2000, Somme des 100 derniers épisodes: 6456.0\n",
      "Épisode 1550/2000, Somme des 100 derniers épisodes: 8658.0\n",
      "Épisode 1600/2000, Somme des 100 derniers épisodes: 11955.0\n",
      "Épisode 1650/2000, Somme des 100 derniers épisodes: 13433.0\n",
      "Épisode 1700/2000, Somme des 100 derniers épisodes: 17107.0\n",
      "Épisode 1750/2000, Somme des 100 derniers épisodes: 16007.0\n",
      "Épisode 1800/2000, Somme des 100 derniers épisodes: 15611.0\n",
      "Épisode 1850/2000, Somme des 100 derniers épisodes: 12032.0\n",
      "Épisode 1900/2000, Somme des 100 derniers épisodes: 8551.0\n",
      "Épisode 1950/2000, Somme des 100 derniers épisodes: 8993.0\n",
      "Épisode 2000/2000, Somme des 100 derniers épisodes: 8950.0\n"
     ]
    },
    {
     "data": {
      "image/png": "[encoded data removed]",
      "text/plain": [
       "<Figure size 640x480 with 1 Axes>"
      ]
     },
     "metadata": {},
     "output_type": "display_data"
    }
   ],
   "source": [
    "env = gym.make(\"CartPole-v1\")\n",
    "init_seed(5)\n",
    "state_dim = env.observation_space.shape[0] \n",
    "action_dim = env.action_space.n\n",
    "dim_cache = 64\n",
    "politique = Politique(state_dim,action_dim,64)\n",
    "total_rewards = reinforce(env,politique)\n",
    "utils.plot_sumrwdperepi(total_rewards)"
   ]
  },
  {
   "cell_type": "markdown",
   "metadata": {},
   "source": [
    "# 4 REINFORCE avec reward-to-go\n",
    "\n",
    "Une action prise à l'instant $t$ impacte uniquement les récompenses obtenues à partir de $t$, et pas les récompenses passées. \n",
    "\n",
    "Pour améliorer l'algorithme précédent, on peut calculer la $loss$ en considérant à chaque action la somme pondérée des récompenses obtenues sur la trajectoire à partir de cette action (retour cumulé à chaque pas)\n",
    "\n",
    "La méthode *loss_reinforce2* calcule à partir des informations sur une trajectoire  $\\tau = (s_0,a_0,r_0,s_1, ...,s_{H+1})$ :\n",
    "$$\\sum_t log \\pi_\\theta(a_t | s_t) R_t(\\tau)$$\n",
    "avec le retour cumulé au pas $t$:\n",
    "$$R_t(\\tau) = \\sum_{k=t}^H \\gamma^{k-t} r_k$$\n"
   ]
  },
  {
   "cell_type": "code",
   "execution_count": 65,
   "metadata": {},
   "outputs": [],
   "source": [
    "def loss_reinforce2(log_probs:list, retours_cumules:list):\n",
    "    \"\"\"\n",
    "        log_probs: liste des log proba des actions prises à chaque pas d'une trajectoire \n",
    "        retours_cumules : liste des retours cumulés à chaque pas de la trajectoire\n",
    "        renvoi: loss = - sum_t logproba(a_t) * retour_cumule_t\n",
    "    \"\"\"\n",
    "    loss = []\n",
    "    for log_prob,r_cumul in zip(log_probs,retours_cumules): \n",
    "        loss.append(-log_prob * r_cumul) \n",
    "    return torch.cat(loss).sum()\n",
    "\n",
    "\n",
    "def retours_cumules(recompenses : list, gamma: float =0.99):\n",
    "    \"\"\"\n",
    "       recompenses: liste des récompenses reçues à chaque pas de la trajectoire\n",
    "       renvoi: retour cumulé à chaque pas de la trajectoire\n",
    "    \"\"\"\n",
    "    total_retours_cumules=[]\n",
    "    H = len(recompenses)\n",
    "    for t in range(H):\n",
    "        Somme_reward_cumule = 0\n",
    "        for k in range(t,H) :\n",
    "            reward_cumule = (gamma**(k-t))*recompenses[k]\n",
    "            Somme_reward_cumule += reward_cumule\n",
    "        total_retours_cumules.append(Somme_reward_cumule)\n",
    "            \n",
    "    return total_retours_cumules\n",
    "    \n",
    "\n",
    "\n"
   ]
  },
  {
   "cell_type": "code",
   "execution_count": 78,
   "metadata": {},
   "outputs": [],
   "source": [
    "def reinforce2(env,politique, nb_episodes=2000, gamma=0.99,  max_t=500) -> list:\n",
    "    \n",
    "    optimizer = optim.Adam(politique.parameters(), lr=1e-3)\n",
    "    etat, _ = env.reset(seed=random.randint(0,5000))\n",
    "    total_rewards = []\n",
    "    for epoch in range(nb_episodes):\n",
    "        liste_reward, liste_log_proba = trajectoire(env, politique,max_t)\n",
    "        retourscumules = retours_cumules(liste_reward,gamma)\n",
    "        loss=loss_reinforce2(liste_log_proba,retourscumules)\n",
    "        \n",
    "        optimizer.zero_grad()\n",
    "        loss.backward()\n",
    "        optimizer.step()\n",
    "        \n",
    "        total_rewards.append(sum(liste_reward))\n",
    "    \n",
    "        if (epoch+1) % 50 == 0 :          \n",
    "            print(f\"Épisode {epoch + 1}/{nb_episodes}, Somme des 100 derniers épisodes: {sum(total_rewards[-50:])}\")\n",
    "    \n",
    "            \n",
    "    return total_rewards\n",
    "     \n",
    "\n"
   ]
  },
  {
   "cell_type": "code",
   "execution_count": 79,
   "metadata": {},
   "outputs": [
    {
     "name": "stderr",
     "output_type": "stream",
     "text": [
      "C:\\Users\\DELL\\AppData\\Local\\Temp\\ipykernel_13032\\604695970.py:9: UserWarning: To copy construct from a tensor, it is recommended to use sourceTensor.clone().detach() or sourceTensor.clone().detach().requires_grad_(True), rather than torch.tensor(sourceTensor).\n",
      "  etat = torch.tensor(etat, dtype=torch.float)\n"
     ]
    },
    {
     "name": "stdout",
     "output_type": "stream",
     "text": [
      "Épisode 50/2000, Somme des 100 derniers épisodes: 1243.0\n",
      "Épisode 100/2000, Somme des 100 derniers épisodes: 1405.0\n",
      "Épisode 150/2000, Somme des 100 derniers épisodes: 1935.0\n",
      "Épisode 200/2000, Somme des 100 derniers épisodes: 2536.0\n",
      "Épisode 250/2000, Somme des 100 derniers épisodes: 2783.0\n",
      "Épisode 300/2000, Somme des 100 derniers épisodes: 5555.0\n",
      "Épisode 350/2000, Somme des 100 derniers épisodes: 8069.0\n"
     ]
    },
    {
     "name": "stderr",
     "output_type": "stream",
     "text": [
      "C:\\Users\\DELL\\AppData\\Local\\Temp\\ipykernel_13032\\604695970.py:9: UserWarning: To copy construct from a tensor, it is recommended to use sourceTensor.clone().detach() or sourceTensor.clone().detach().requires_grad_(True), rather than torch.tensor(sourceTensor).\n",
      "  etat = torch.tensor(etat, dtype=torch.float)\n"
     ]
    },
    {
     "name": "stdout",
     "output_type": "stream",
     "text": [
      "Épisode 400/2000, Somme des 100 derniers épisodes: 10117.0\n",
      "Épisode 450/2000, Somme des 100 derniers épisodes: 12564.0\n",
      "Épisode 500/2000, Somme des 100 derniers épisodes: 15368.0\n",
      "Épisode 550/2000, Somme des 100 derniers épisodes: 15744.0\n",
      "Épisode 600/2000, Somme des 100 derniers épisodes: 19068.0\n",
      "Épisode 650/2000, Somme des 100 derniers épisodes: 15469.0\n",
      "Épisode 700/2000, Somme des 100 derniers épisodes: 17310.0\n",
      "Épisode 750/2000, Somme des 100 derniers épisodes: 20982.0\n",
      "Épisode 800/2000, Somme des 100 derniers épisodes: 23334.0\n",
      "Épisode 850/2000, Somme des 100 derniers épisodes: 21937.0\n",
      "Épisode 900/2000, Somme des 100 derniers épisodes: 19999.0\n",
      "Épisode 950/2000, Somme des 100 derniers épisodes: 14843.0\n",
      "Épisode 1000/2000, Somme des 100 derniers épisodes: 19360.0\n",
      "Épisode 1050/2000, Somme des 100 derniers épisodes: 23193.0\n",
      "Épisode 1100/2000, Somme des 100 derniers épisodes: 22710.0\n",
      "Épisode 1150/2000, Somme des 100 derniers épisodes: 23842.0\n",
      "Épisode 1200/2000, Somme des 100 derniers épisodes: 23509.0\n",
      "Épisode 1250/2000, Somme des 100 derniers épisodes: 24265.0\n",
      "Épisode 1300/2000, Somme des 100 derniers épisodes: 23996.0\n",
      "Épisode 1350/2000, Somme des 100 derniers épisodes: 24890.0\n",
      "Épisode 1400/2000, Somme des 100 derniers épisodes: 24782.0\n",
      "Épisode 1450/2000, Somme des 100 derniers épisodes: 24333.0\n",
      "Épisode 1500/2000, Somme des 100 derniers épisodes: 23998.0\n",
      "Épisode 1550/2000, Somme des 100 derniers épisodes: 22092.0\n",
      "Épisode 1600/2000, Somme des 100 derniers épisodes: 23260.0\n",
      "Épisode 1650/2000, Somme des 100 derniers épisodes: 23956.0\n",
      "Épisode 1700/2000, Somme des 100 derniers épisodes: 23834.0\n",
      "Épisode 1750/2000, Somme des 100 derniers épisodes: 24082.0\n",
      "Épisode 1800/2000, Somme des 100 derniers épisodes: 23768.0\n",
      "Épisode 1850/2000, Somme des 100 derniers épisodes: 23978.0\n",
      "Épisode 1900/2000, Somme des 100 derniers épisodes: 24334.0\n",
      "Épisode 1950/2000, Somme des 100 derniers épisodes: 22233.0\n",
      "Épisode 2000/2000, Somme des 100 derniers épisodes: 23444.0\n"
     ]
    },
    {
     "data": {
      "image/png": "[encoded data removed]",
      "text/plain": [
       "<Figure size 640x480 with 1 Axes>"
      ]
     },
     "metadata": {},
     "output_type": "display_data"
    }
   ],
   "source": [
    "env = gym.make(\"CartPole-v1\")\n",
    "init_seed(5)\n",
    "state_dim = env.observation_space.shape[0] \n",
    "action_dim = env.action_space.n\n",
    "dim_cache = 64\n",
    "politique = Politique(state_dim,action_dim,64)\n",
    "total_rewards = reinforce2(env,politique)\n",
    "utils.plot_sumrwdperepi(total_rewards)"
   ]
  },
  {
   "cell_type": "code",
   "execution_count": null,
   "metadata": {},
   "outputs": [],
   "source": []
  },
  {
   "cell_type": "code",
   "execution_count": null,
   "metadata": {},
   "outputs": [],
   "source": []
  },
  {
   "cell_type": "code",
   "execution_count": null,
   "metadata": {},
   "outputs": [],
   "source": []
  },
  {
   "cell_type": "code",
   "execution_count": null,
   "metadata": {},
   "outputs": [],
   "source": []
  }
 ],
 "metadata": {
  "anaconda-cloud": {},
  "kernelspec": {
   "display_name": "Python 3 (ipykernel)",
   "language": "python",
   "name": "python3"
  },
  "language_info": {
   "codemirror_mode": {
    "name": "ipython",
    "version": 3
   },
   "file_extension": ".py",
   "mimetype": "text/x-python",
   "name": "python",
   "nbconvert_exporter": "python",
   "pygments_lexer": "ipython3",
   "version": "3.11.5"
  }
 },
 "nbformat": 4,
 "nbformat_minor": 4
}
